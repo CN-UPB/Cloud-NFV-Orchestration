{
 "cells": [
  {
   "cell_type": "code",
   "execution_count": 140,
   "metadata": {},
   "outputs": [],
   "source": [
    "# https://stackabuse.com/time-series-analysis-with-lstm-using-pythons-keras-library/"
   ]
  },
  {
   "cell_type": "code",
   "execution_count": 141,
   "metadata": {},
   "outputs": [],
   "source": [
    "import numpy as np\n",
    "import matplotlib.pyplot as plt\n",
    "import pandas as pd"
   ]
  },
  {
   "cell_type": "code",
   "execution_count": 142,
   "metadata": {},
   "outputs": [],
   "source": [
    "tsla_training_complete = pd.read_csv(r'./data/TSLA_5Y.csv')\n",
    "tsla_training_processed_complete = tsla_training_complete.iloc[:, 1:2].values\n"
   ]
  },
  {
   "cell_type": "code",
   "execution_count": 143,
   "metadata": {},
   "outputs": [
    {
     "name": "stdout",
     "output_type": "stream",
     "text": [
      "1007 252 312\n"
     ]
    }
   ],
   "source": [
    "from sklearn.preprocessing import MinMaxScaler\n",
    "scaler = MinMaxScaler(feature_range = (0, 1))\n",
    "LOOK_BACK = 60\n",
    "\n",
    "tsla_training_scaled_complete = scaler.fit_transform(tsla_training_processed_complete)\n",
    "\n",
    "train_size = int(len(tsla_training_processed_complete) * 0.8)\n",
    "test_size = len(tsla_training_processed_complete) - train_size + LOOK_BACK\n",
    "\n",
    "tsla_training_processed, tsla_testing_processed  = tsla_training_processed_complete[0:train_size], tsla_training_processed_complete[train_size:len(tsla_training_processed_complete)]\n",
    "\n",
    "tsla_training_scaled, tsla_testing_scaled = tsla_training_scaled_complete[0:train_size], tsla_training_scaled_complete[train_size:len(tsla_training_processed_complete)]\n",
    "print(len(tsla_training_processed), len(tsla_testing_processed), test_size)"
   ]
  },
  {
   "cell_type": "code",
   "execution_count": 144,
   "metadata": {},
   "outputs": [
    {
     "data": {
      "text/plain": [
       "1007"
      ]
     },
     "execution_count": 144,
     "metadata": {},
     "output_type": "execute_result"
    }
   ],
   "source": [
    "#print(tsla_training_scaled[-5:])\n",
    "len(tsla_training_scaled)"
   ]
  },
  {
   "cell_type": "code",
   "execution_count": 145,
   "metadata": {},
   "outputs": [
    {
     "name": "stdout",
     "output_type": "stream",
     "text": [
      "(947, 60, 1)\n"
     ]
    }
   ],
   "source": [
    "features_set = []\n",
    "labels = []\n",
    "\n",
    "\n",
    "for i in range(LOOK_BACK, len(tsla_training_scaled)):\n",
    "    features_set.append(tsla_training_scaled[i-LOOK_BACK:i, 0])\n",
    "    labels.append(tsla_training_scaled[i, 0])\n",
    "\n",
    "features_set, labels = np.array(features_set), np.array(labels)\n",
    "\n",
    "#In order to train LSTM on our data, we need to convert our data into the shape accepted by the LSTM. \n",
    "# We need to convert our data into three-dimensional format. \n",
    "# The first dimension is the number of records or rows in the dataset \n",
    "# The second dimension is the number of time steps which is 60\n",
    "# The last dimension is the number of indicators. Since we are only using one feature, i.e Open, \n",
    "# the number of indicators will be one\n",
    "\n",
    "# reshape to [samples, time_steps, n_features]\n",
    "\n",
    "features_set = np.reshape(features_set, (features_set.shape[0], features_set.shape[1], 1))\n",
    "print(features_set.shape)"
   ]
  },
  {
   "cell_type": "markdown",
   "metadata": {},
   "source": [
    "# Training The LSTM"
   ]
  },
  {
   "cell_type": "code",
   "execution_count": 146,
   "metadata": {},
   "outputs": [],
   "source": [
    "from tensorflow.keras.models import Sequential\n",
    "from tensorflow.keras.layers import Dense\n",
    "from tensorflow.keras.layers import LSTM\n",
    "from tensorflow.keras.layers import Dropout"
   ]
  },
  {
   "cell_type": "code",
   "execution_count": 147,
   "metadata": {},
   "outputs": [],
   "source": [
    "model = Sequential()"
   ]
  },
  {
   "cell_type": "code",
   "execution_count": 148,
   "metadata": {},
   "outputs": [],
   "source": [
    "model.add(LSTM(units=50, return_sequences=True, input_shape=(features_set.shape[1], 1)))\n",
    "model.add(Dropout(0.2))\n",
    "\n",
    "model.add(LSTM(units=50, return_sequences=True))\n",
    "model.add(Dropout(0.2))\n",
    "\n",
    "model.add(LSTM(units=50, return_sequences=True))\n",
    "model.add(Dropout(0.2))\n",
    "\n",
    "model.add(LSTM(units=50))\n",
    "model.add(Dropout(0.2))\n",
    "\n",
    "model.add(Dense(units = 1))"
   ]
  },
  {
   "cell_type": "code",
   "execution_count": 149,
   "metadata": {},
   "outputs": [],
   "source": [
    "model.compile(optimizer = 'adam', loss = 'mean_squared_error')"
   ]
  },
  {
   "cell_type": "code",
   "execution_count": 150,
   "metadata": {},
   "outputs": [
    {
     "name": "stdout",
     "output_type": "stream",
     "text": [
      "Train on 947 samples\n",
      "Epoch 1/100\n",
      "947/947 [==============================] - 17s 18ms/sample - loss: 0.0059\n",
      "Epoch 2/100\n",
      "947/947 [==============================] - 8s 9ms/sample - loss: 0.0014\n",
      "Epoch 3/100\n",
      "947/947 [==============================] - 9s 10ms/sample - loss: 0.0012\n",
      "Epoch 4/100\n",
      "947/947 [==============================] - 9s 9ms/sample - loss: 0.0012\n",
      "Epoch 5/100\n",
      "947/947 [==============================] - 9s 9ms/sample - loss: 0.0011\n",
      "Epoch 6/100\n",
      "947/947 [==============================] - 9s 9ms/sample - loss: 0.0011\n",
      "Epoch 7/100\n",
      "947/947 [==============================] - 9s 9ms/sample - loss: 0.0012\n",
      "Epoch 8/100\n",
      "947/947 [==============================] - 9s 9ms/sample - loss: 0.0010\n",
      "Epoch 9/100\n",
      "947/947 [==============================] - 8s 9ms/sample - loss: 9.6004e-04\n",
      "Epoch 10/100\n",
      "947/947 [==============================] - 8s 9ms/sample - loss: 9.0681e-04\n",
      "Epoch 11/100\n",
      "947/947 [==============================] - 9s 9ms/sample - loss: 8.5717e-04\n",
      "Epoch 12/100\n",
      "947/947 [==============================] - 9s 9ms/sample - loss: 8.5798e-04\n",
      "Epoch 13/100\n",
      "947/947 [==============================] - 9s 9ms/sample - loss: 7.5050e-04\n",
      "Epoch 14/100\n",
      "947/947 [==============================] - 9s 9ms/sample - loss: 7.7279e-04\n",
      "Epoch 15/100\n",
      "947/947 [==============================] - 9s 9ms/sample - loss: 7.3163e-04\n",
      "Epoch 16/100\n",
      "947/947 [==============================] - 9s 9ms/sample - loss: 7.6268e-04\n",
      "Epoch 17/100\n",
      "947/947 [==============================] - 9s 9ms/sample - loss: 6.0784e-04\n",
      "Epoch 18/100\n",
      "947/947 [==============================] - 9s 9ms/sample - loss: 7.0691e-04\n",
      "Epoch 19/100\n",
      "947/947 [==============================] - 9s 9ms/sample - loss: 6.6515e-04\n",
      "Epoch 20/100\n",
      "947/947 [==============================] - 8s 9ms/sample - loss: 5.7262e-04\n",
      "Epoch 21/100\n",
      "947/947 [==============================] - 8s 9ms/sample - loss: 5.6902e-04\n",
      "Epoch 22/100\n",
      "947/947 [==============================] - 9s 9ms/sample - loss: 5.9928e-04\n",
      "Epoch 23/100\n",
      "947/947 [==============================] - 9s 9ms/sample - loss: 6.2471e-04\n",
      "Epoch 24/100\n",
      "947/947 [==============================] - 9s 9ms/sample - loss: 5.2854e-04\n",
      "Epoch 25/100\n",
      "947/947 [==============================] - 9s 9ms/sample - loss: 5.3300e-04\n",
      "Epoch 26/100\n",
      "947/947 [==============================] - 9s 9ms/sample - loss: 5.4010e-04\n",
      "Epoch 27/100\n",
      "947/947 [==============================] - 9s 9ms/sample - loss: 5.4235e-04\n",
      "Epoch 28/100\n",
      "947/947 [==============================] - 8s 9ms/sample - loss: 4.8401e-04\n",
      "Epoch 29/100\n",
      "947/947 [==============================] - 9s 9ms/sample - loss: 4.6651e-04\n",
      "Epoch 30/100\n",
      "947/947 [==============================] - 9s 9ms/sample - loss: 4.7445e-04\n",
      "Epoch 31/100\n",
      "947/947 [==============================] - 8s 9ms/sample - loss: 4.2608e-04\n",
      "Epoch 32/100\n",
      "947/947 [==============================] - 8s 8ms/sample - loss: 4.2417e-04\n",
      "Epoch 33/100\n",
      "947/947 [==============================] - 8s 8ms/sample - loss: 4.5760e-04\n",
      "Epoch 34/100\n",
      "947/947 [==============================] - 8s 8ms/sample - loss: 4.3393e-04\n",
      "Epoch 35/100\n",
      "947/947 [==============================] - 8s 9ms/sample - loss: 4.4407e-04\n",
      "Epoch 36/100\n",
      "947/947 [==============================] - 8s 9ms/sample - loss: 3.8626e-04\n",
      "Epoch 37/100\n",
      "947/947 [==============================] - 9s 9ms/sample - loss: 4.0274e-04\n",
      "Epoch 38/100\n",
      "947/947 [==============================] - 9s 9ms/sample - loss: 4.1560e-04\n",
      "Epoch 39/100\n",
      "947/947 [==============================] - 9s 9ms/sample - loss: 4.0516e-04\n",
      "Epoch 40/100\n",
      "947/947 [==============================] - 9s 9ms/sample - loss: 3.8510e-04\n",
      "Epoch 41/100\n",
      "947/947 [==============================] - 9s 9ms/sample - loss: 4.0225e-04\n",
      "Epoch 42/100\n",
      "947/947 [==============================] - 9s 9ms/sample - loss: 3.5860e-04\n",
      "Epoch 43/100\n",
      "947/947 [==============================] - 8s 9ms/sample - loss: 3.6030e-04\n",
      "Epoch 44/100\n",
      "947/947 [==============================] - 9s 9ms/sample - loss: 3.4505e-04\n",
      "Epoch 45/100\n",
      "947/947 [==============================] - 9s 9ms/sample - loss: 3.8747e-04\n",
      "Epoch 46/100\n",
      "947/947 [==============================] - 9s 9ms/sample - loss: 3.3942e-04\n",
      "Epoch 47/100\n",
      "947/947 [==============================] - 9s 9ms/sample - loss: 3.4581e-04\n",
      "Epoch 48/100\n",
      "947/947 [==============================] - 9s 9ms/sample - loss: 3.7521e-04\n",
      "Epoch 49/100\n",
      "947/947 [==============================] - 9s 9ms/sample - loss: 3.8290e-04\n",
      "Epoch 50/100\n",
      "947/947 [==============================] - 9s 9ms/sample - loss: 3.4894e-04\n",
      "Epoch 51/100\n",
      "947/947 [==============================] - 9s 9ms/sample - loss: 3.4516e-04\n",
      "Epoch 52/100\n",
      "947/947 [==============================] - 9s 9ms/sample - loss: 3.7799e-04\n",
      "Epoch 53/100\n",
      "947/947 [==============================] - 9s 9ms/sample - loss: 2.9756e-04\n",
      "Epoch 54/100\n",
      "947/947 [==============================] - 8s 9ms/sample - loss: 2.9814e-04\n",
      "Epoch 55/100\n",
      "947/947 [==============================] - 9s 9ms/sample - loss: 2.9400e-04\n",
      "Epoch 56/100\n",
      "947/947 [==============================] - 9s 9ms/sample - loss: 3.0673e-04\n",
      "Epoch 57/100\n",
      "947/947 [==============================] - 8s 9ms/sample - loss: 3.1384e-04\n",
      "Epoch 58/100\n",
      "947/947 [==============================] - 9s 9ms/sample - loss: 3.1145e-04\n",
      "Epoch 59/100\n",
      "947/947 [==============================] - 9s 9ms/sample - loss: 2.9339e-04\n",
      "Epoch 60/100\n",
      "947/947 [==============================] - 9s 9ms/sample - loss: 2.9698e-04\n",
      "Epoch 61/100\n",
      "947/947 [==============================] - 8s 9ms/sample - loss: 2.8050e-04\n",
      "Epoch 62/100\n",
      "947/947 [==============================] - 8s 9ms/sample - loss: 2.8776e-04\n",
      "Epoch 63/100\n",
      "947/947 [==============================] - 8s 9ms/sample - loss: 2.7711e-04\n",
      "Epoch 64/100\n",
      "947/947 [==============================] - 8s 8ms/sample - loss: 2.9349e-04\n",
      "Epoch 65/100\n",
      "947/947 [==============================] - 8s 8ms/sample - loss: 2.7943e-04\n",
      "Epoch 66/100\n",
      "947/947 [==============================] - 8s 9ms/sample - loss: 2.6158e-04\n",
      "Epoch 67/100\n",
      "947/947 [==============================] - 8s 8ms/sample - loss: 2.7058e-04\n",
      "Epoch 68/100\n",
      "947/947 [==============================] - 8s 9ms/sample - loss: 2.8643e-04\n",
      "Epoch 69/100\n",
      "947/947 [==============================] - 8s 8ms/sample - loss: 2.6378e-04\n",
      "Epoch 70/100\n",
      "947/947 [==============================] - 8s 9ms/sample - loss: 2.7598e-04\n",
      "Epoch 71/100\n",
      "947/947 [==============================] - 8s 8ms/sample - loss: 2.6256e-04\n",
      "Epoch 72/100\n",
      "947/947 [==============================] - 8s 9ms/sample - loss: 2.6220e-04\n",
      "Epoch 73/100\n",
      "947/947 [==============================] - 8s 9ms/sample - loss: 2.4094e-04\n",
      "Epoch 74/100\n",
      "947/947 [==============================] - 8s 8ms/sample - loss: 2.3339e-04\n",
      "Epoch 75/100\n",
      "947/947 [==============================] - 8s 9ms/sample - loss: 2.2265e-04\n",
      "Epoch 76/100\n",
      "947/947 [==============================] - 8s 8ms/sample - loss: 2.5320e-04\n",
      "Epoch 77/100\n",
      "947/947 [==============================] - 8s 8ms/sample - loss: 2.6918e-04\n",
      "Epoch 78/100\n",
      "947/947 [==============================] - 9s 9ms/sample - loss: 2.5797e-04\n",
      "Epoch 79/100\n",
      "947/947 [==============================] - 9s 9ms/sample - loss: 2.2877e-04\n",
      "Epoch 80/100\n",
      "947/947 [==============================] - 9s 9ms/sample - loss: 2.2710e-04\n",
      "Epoch 81/100\n",
      "947/947 [==============================] - 9s 9ms/sample - loss: 2.2440e-04\n",
      "Epoch 82/100\n",
      "947/947 [==============================] - 9s 9ms/sample - loss: 2.0738e-04\n",
      "Epoch 83/100\n",
      "947/947 [==============================] - 9s 9ms/sample - loss: 2.4081e-04\n",
      "Epoch 84/100\n",
      "947/947 [==============================] - 9s 9ms/sample - loss: 2.3562e-04\n",
      "Epoch 85/100\n",
      "947/947 [==============================] - 9s 9ms/sample - loss: 2.3673e-04\n",
      "Epoch 86/100\n",
      "947/947 [==============================] - 9s 9ms/sample - loss: 2.4923e-04\n",
      "Epoch 87/100\n",
      "947/947 [==============================] - 9s 9ms/sample - loss: 2.0286e-04\n",
      "Epoch 88/100\n",
      "947/947 [==============================] - 8s 9ms/sample - loss: 2.3203e-04\n",
      "Epoch 89/100\n",
      "947/947 [==============================] - 9s 9ms/sample - loss: 2.3347e-04\n",
      "Epoch 90/100\n",
      "947/947 [==============================] - 9s 9ms/sample - loss: 2.2081e-04\n",
      "Epoch 91/100\n",
      "947/947 [==============================] - 9s 9ms/sample - loss: 2.1751e-04\n",
      "Epoch 92/100\n",
      "947/947 [==============================] - 9s 9ms/sample - loss: 1.9905e-04\n",
      "Epoch 93/100\n",
      "947/947 [==============================] - 8s 9ms/sample - loss: 2.1672e-04\n",
      "Epoch 94/100\n",
      "947/947 [==============================] - 9s 9ms/sample - loss: 1.9984e-04\n",
      "Epoch 95/100\n",
      "947/947 [==============================] - 9s 10ms/sample - loss: 2.2359e-04\n",
      "Epoch 96/100\n",
      "947/947 [==============================] - 9s 9ms/sample - loss: 2.4073e-04\n",
      "Epoch 97/100\n",
      "947/947 [==============================] - 9s 9ms/sample - loss: 1.9310e-04\n",
      "Epoch 98/100\n",
      "947/947 [==============================] - 9s 9ms/sample - loss: 1.9397e-04\n",
      "Epoch 99/100\n",
      "947/947 [==============================] - 9s 9ms/sample - loss: 2.0565e-04\n",
      "Epoch 100/100\n",
      "947/947 [==============================] - 9s 9ms/sample - loss: 1.9853e-04\n"
     ]
    },
    {
     "data": {
      "text/plain": [
       "<tensorflow.python.keras.callbacks.History at 0x7fb148a93be0>"
      ]
     },
     "execution_count": 150,
     "metadata": {},
     "output_type": "execute_result"
    }
   ],
   "source": [
    "model.fit(features_set, labels, epochs = 100, batch_size = 32)"
   ]
  },
  {
   "cell_type": "markdown",
   "metadata": {},
   "source": [
    "# Testing"
   ]
  },
  {
   "cell_type": "code",
   "execution_count": 167,
   "metadata": {},
   "outputs": [
    {
     "name": "stdout",
     "output_type": "stream",
     "text": [
      "(192, 60, 1)\n"
     ]
    }
   ],
   "source": [
    "test_features = []\n",
    "test_labels = []\n",
    "LOOK_BACK = 60\n",
    "\n",
    "for i in range(LOOK_BACK, len(tsla_testing_scaled)):\n",
    "    test_features.append(tsla_testing_scaled[i-LOOK_BACK:i, 0])\n",
    "    test_labels.append(tsla_testing_scaled[i, 0])\n",
    "\n",
    "test_features, test_labels = np.array(test_features), np.array(test_labels)\n",
    "\n",
    "#In order to train LSTM on our data, we need to convert our data into the shape accepted by the LSTM. \n",
    "# We need to convert our data into three-dimensional format. \n",
    "# The first dimension is the number of records or rows in the dataset \n",
    "# The second dimension is the number of time steps which is 60\n",
    "# The last dimension is the number of indicators. Since we are only using one feature, i.e Open, \n",
    "# the number of indicators will be one\n",
    "\n",
    "# reshape to [samples, time_steps, n_features]\n",
    "\n",
    "test_features = np.reshape(test_features, (test_features.shape[0], test_features.shape[1], 1))\n",
    "print(test_features.shape)"
   ]
  },
  {
   "cell_type": "code",
   "execution_count": 168,
   "metadata": {},
   "outputs": [],
   "source": [
    "predictions = model.predict(test_features)"
   ]
  },
  {
   "cell_type": "code",
   "execution_count": 169,
   "metadata": {},
   "outputs": [],
   "source": [
    "predictions = scaler.inverse_transform(predictions)"
   ]
  },
  {
   "cell_type": "code",
   "execution_count": 171,
   "metadata": {},
   "outputs": [
    {
     "data": {
      "image/png": "[encoded data removed]",
      "text/plain": [
       "<Figure size 720x432 with 1 Axes>"
      ]
     },
     "metadata": {
      "needs_background": "light"
     },
     "output_type": "display_data"
    }
   ],
   "source": [
    "plt.figure(figsize=(10,6))\n",
    "plt.plot(tsla_testing_processed[LOOK_BACK:], color='blue', label='Actual Apple Stock Price')\n",
    "plt.plot(predictions , color='red', label='Predicted Apple Stock Price')\n",
    "plt.title('Apple Stock Price Prediction')\n",
    "plt.xlabel('Date')\n",
    "plt.ylabel('Apple Stock Price')\n",
    "plt.legend()\n",
    "plt.show()"
   ]
  },
  {
   "cell_type": "code",
   "execution_count": null,
   "metadata": {},
   "outputs": [],
   "source": []
  }
 ],
 "metadata": {
  "kernelspec": {
   "display_name": "Python 3",
   "language": "python",
   "name": "python3"
  },
  "language_info": {
   "codemirror_mode": {
    "name": "ipython",
    "version": 3
   },
   "file_extension": ".py",
   "mimetype": "text/x-python",
   "name": "python",
   "nbconvert_exporter": "python",
   "pygments_lexer": "ipython3",
   "version": "3.6.10"
  }
 },
 "nbformat": 4,
 "nbformat_minor": 4
}
