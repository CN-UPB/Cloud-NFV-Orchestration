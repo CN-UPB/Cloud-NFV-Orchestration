{
 "cells": [
  {
   "cell_type": "markdown",
   "metadata": {},
   "source": [
    "# Policy Generator\n",
    "\n",
    "+ Tag the traffic trace with the version\n",
    "+ Ability to compare real vs prediction\n",
    "+ Ability to generate predictions with variable accuracies\n",
    "+ Group time periods based on Policy settings\n",
    "+ Tag each group by decided version \n"
   ]
  },
  {
   "cell_type": "markdown",
   "metadata": {},
   "source": [
    "### Tag Traffic"
   ]
  },
  {
   "cell_type": "code",
   "execution_count": 190,
   "metadata": {},
   "outputs": [
    {
     "output_type": "execute_result",
     "data": {
      "text/plain": "{'virtual_deployment_units_vm': {'cirros-image-1-vm': {'cost_per_min': '2',\n   'max_data_rate': 1200,\n   'management_overhead': 60},\n  'cirros-image-2-vm': {'cost_per_min': '2',\n   'max_data_rate': 1200,\n   'management_overhead': 60}},\n 'virtual_deployment_units_gpu': {'cirros-image-1-gpu': {'cost_per_min': '5',\n   'max_data_rate': 3000,\n   'management_overhead': 6},\n  'cirros-image-2-gpu': {'cost_per_min': '5',\n   'max_data_rate': 3000,\n   'management_overhead': 6}},\n 'virtual_deployment_units_con': {'cirros-image-1-con': {'cost_per_min': '1',\n   'max_data_rate': 600,\n   'management_overhead': 4},\n  'cirros-image-2-con': {'cost_per_min': '1',\n   'max_data_rate': 600,\n   'management_overhead': 4}}}"
     },
     "metadata": {},
     "execution_count": 190
    }
   ],
   "source": [
    "import requests\n",
    "import yaml\n",
    "r = requests.get('https://raw.githubusercontent.com/CN-UPB/Pishahang/mvp-thesis/pish-examples/pwm-scripts/descriptors/multiversion/cirros1_mv_vnfd.yml')\n",
    "# print(r.text)\n",
    "VNFD = yaml.load(r.text, Loader=yaml.FullLoader)\n",
    "\n",
    "VNFD[\"versions\"]\n",
    "\n",
    "# for _vm_type_key, _vm_type_value in VNFD[\"versions\"].items():\n",
    "#     print(_vm_type_key)    \n",
    "#     for _vm_version_key, _vm_version_value in _vm_type_value.items():\n",
    "#         print(_vm_version_key)\n",
    "#         print(_vm_version_value)"
   ]
  },
  {
   "cell_type": "code",
   "execution_count": 217,
   "metadata": {},
   "outputs": [
    {
     "output_type": "stream",
     "name": "stdout",
     "text": "(22188, 2)\n"
    },
    {
     "output_type": "execute_result",
     "data": {
      "text/plain": "                  sent  received\n1583107200  184.899601  0.287412\n1583107260  133.495889  0.430124\n1583107320  231.145392  0.632607\n1583107380  189.214077  0.662958\n1583107440  178.089039  0.665811",
      "text/html": "<div>\n<style scoped>\n    .dataframe tbody tr th:only-of-type {\n        vertical-align: middle;\n    }\n\n    .dataframe tbody tr th {\n        vertical-align: top;\n    }\n\n    .dataframe thead th {\n        text-align: right;\n    }\n</style>\n<table border=\"1\" class=\"dataframe\">\n  <thead>\n    <tr style=\"text-align: right;\">\n      <th></th>\n      <th>sent</th>\n      <th>received</th>\n    </tr>\n  </thead>\n  <tbody>\n    <tr>\n      <th>1583107200</th>\n      <td>184.899601</td>\n      <td>0.287412</td>\n    </tr>\n    <tr>\n      <th>1583107260</th>\n      <td>133.495889</td>\n      <td>0.430124</td>\n    </tr>\n    <tr>\n      <th>1583107320</th>\n      <td>231.145392</td>\n      <td>0.632607</td>\n    </tr>\n    <tr>\n      <th>1583107380</th>\n      <td>189.214077</td>\n      <td>0.662958</td>\n    </tr>\n    <tr>\n      <th>1583107440</th>\n      <td>178.089039</td>\n      <td>0.665811</td>\n    </tr>\n  </tbody>\n</table>\n</div>"
     },
     "metadata": {},
     "execution_count": 217
    }
   ],
   "source": [
    "import pandas as pd\n",
    "import numpy as np\n",
    "\n",
    "LOOK_AHEAD = 15 # Mins\n",
    "\n",
    "traffic_training_complete = pd.read_csv(r'/plugins/son-mano-traffic-forecast/notebooks/data/dataset_7_day_traffic.csv', index_col=0)\n",
    "print(traffic_training_complete.shape)\n",
    "traffic_training_complete.head(5)"
   ]
  },
  {
   "cell_type": "code",
   "execution_count": 218,
   "metadata": {},
   "outputs": [
    {
     "output_type": "stream",
     "name": "stdout",
     "text": "(1480, 8)\n"
    },
    {
     "output_type": "execute_result",
     "data": {
      "text/plain": "          sent                                     received            \\\n          mean        std         min         max      mean       std   \n0   210.761322  54.355541  116.621570  295.154365  0.610675  0.200633   \n1   202.214353  51.653250  101.729590  279.378450  0.532455  0.270002   \n2   217.926026  66.810697  106.225388  295.278818  0.338812  0.284006   \n3   191.597688  70.571346  114.998696  292.908857  0.490285  0.344671   \n4   202.095334  61.568794  100.540172  286.236149  0.492254  0.280906   \n5   194.107488  62.969057  103.581750  293.625565  0.541595  0.310078   \n6   204.793832  49.584700  113.997633  283.576267  0.555603  0.257493   \n7   177.424974  60.289400  104.076365  290.608109  0.515565  0.262725   \n8   183.351098  47.777718  100.239187  270.704376  0.536273  0.302871   \n9   206.130413  67.420513  101.780853  293.655324  0.428524  0.267145   \n10  208.737601  56.160780  110.942039  286.955559  0.416499  0.328815   \n11  185.711121  46.599092  129.558386  297.663908  0.502506  0.322446   \n12  222.827917  63.367448  101.613815  287.331771  0.502947  0.333768   \n13  202.528601  47.719461  128.653978  296.320646  0.421220  0.311054   \n14  202.719455  57.925459  104.401682  290.714593  0.601917  0.334463   \n15  210.837275  50.564810  122.047204  299.293981  0.547538  0.289013   \n16  234.208394  66.427920  101.499823  299.505989  0.517931  0.256588   \n17  196.547458  66.254967  101.285512  294.888127  0.529361  0.302235   \n18  202.419747  63.699977  116.720248  298.585114  0.485297  0.324084   \n19  243.187622  41.303316  143.978900  297.688550  0.506457  0.371980   \n20  202.210424  53.584031  128.060077  279.754289  0.491285  0.226424   \n21  177.292844  60.911360  100.049863  296.425575  0.569569  0.266215   \n\n                        \n         min       max  \n0   0.235468  0.901092  \n1   0.063792  0.988732  \n2   0.021534  0.940878  \n3   0.000342  0.962522  \n4   0.011211  0.981805  \n5   0.030187  0.983977  \n6   0.098460  0.905997  \n7   0.096960  0.925005  \n8   0.074150  0.985523  \n9   0.071989  0.988942  \n10  0.005214  0.837424  \n11  0.039945  0.962812  \n12  0.030005  0.983264  \n13  0.014829  0.989440  \n14  0.074912  0.972599  \n15  0.043848  0.960434  \n16  0.128174  0.946564  \n17  0.085989  0.925857  \n18  0.031171  0.974594  \n19  0.023620  0.980983  \n20  0.230262  0.941790  \n21  0.150094  0.893850  ",
      "text/html": "<div>\n<style scoped>\n    .dataframe tbody tr th:only-of-type {\n        vertical-align: middle;\n    }\n\n    .dataframe tbody tr th {\n        vertical-align: top;\n    }\n\n    .dataframe thead tr th {\n        text-align: left;\n    }\n</style>\n<table border=\"1\" class=\"dataframe\">\n  <thead>\n    <tr>\n      <th></th>\n      <th colspan=\"4\" halign=\"left\">sent</th>\n      <th colspan=\"4\" halign=\"left\">received</th>\n    </tr>\n    <tr>\n      <th></th>\n      <th>mean</th>\n      <th>std</th>\n      <th>min</th>\n      <th>max</th>\n      <th>mean</th>\n      <th>std</th>\n      <th>min</th>\n      <th>max</th>\n    </tr>\n  </thead>\n  <tbody>\n    <tr>\n      <th>0</th>\n      <td>210.761322</td>\n      <td>54.355541</td>\n      <td>116.621570</td>\n      <td>295.154365</td>\n      <td>0.610675</td>\n      <td>0.200633</td>\n      <td>0.235468</td>\n      <td>0.901092</td>\n    </tr>\n    <tr>\n      <th>1</th>\n      <td>202.214353</td>\n      <td>51.653250</td>\n      <td>101.729590</td>\n      <td>279.378450</td>\n      <td>0.532455</td>\n      <td>0.270002</td>\n      <td>0.063792</td>\n      <td>0.988732</td>\n    </tr>\n    <tr>\n      <th>2</th>\n      <td>217.926026</td>\n      <td>66.810697</td>\n      <td>106.225388</td>\n      <td>295.278818</td>\n      <td>0.338812</td>\n      <td>0.284006</td>\n      <td>0.021534</td>\n      <td>0.940878</td>\n    </tr>\n    <tr>\n      <th>3</th>\n      <td>191.597688</td>\n      <td>70.571346</td>\n      <td>114.998696</td>\n      <td>292.908857</td>\n      <td>0.490285</td>\n      <td>0.344671</td>\n      <td>0.000342</td>\n      <td>0.962522</td>\n    </tr>\n    <tr>\n      <th>4</th>\n      <td>202.095334</td>\n      <td>61.568794</td>\n      <td>100.540172</td>\n      <td>286.236149</td>\n      <td>0.492254</td>\n      <td>0.280906</td>\n      <td>0.011211</td>\n      <td>0.981805</td>\n    </tr>\n    <tr>\n      <th>5</th>\n      <td>194.107488</td>\n      <td>62.969057</td>\n      <td>103.581750</td>\n      <td>293.625565</td>\n      <td>0.541595</td>\n      <td>0.310078</td>\n      <td>0.030187</td>\n      <td>0.983977</td>\n    </tr>\n    <tr>\n      <th>6</th>\n      <td>204.793832</td>\n      <td>49.584700</td>\n      <td>113.997633</td>\n      <td>283.576267</td>\n      <td>0.555603</td>\n      <td>0.257493</td>\n      <td>0.098460</td>\n      <td>0.905997</td>\n    </tr>\n    <tr>\n      <th>7</th>\n      <td>177.424974</td>\n      <td>60.289400</td>\n      <td>104.076365</td>\n      <td>290.608109</td>\n      <td>0.515565</td>\n      <td>0.262725</td>\n      <td>0.096960</td>\n      <td>0.925005</td>\n    </tr>\n    <tr>\n      <th>8</th>\n      <td>183.351098</td>\n      <td>47.777718</td>\n      <td>100.239187</td>\n      <td>270.704376</td>\n      <td>0.536273</td>\n      <td>0.302871</td>\n      <td>0.074150</td>\n      <td>0.985523</td>\n    </tr>\n    <tr>\n      <th>9</th>\n      <td>206.130413</td>\n      <td>67.420513</td>\n      <td>101.780853</td>\n      <td>293.655324</td>\n      <td>0.428524</td>\n      <td>0.267145</td>\n      <td>0.071989</td>\n      <td>0.988942</td>\n    </tr>\n    <tr>\n      <th>10</th>\n      <td>208.737601</td>\n      <td>56.160780</td>\n      <td>110.942039</td>\n      <td>286.955559</td>\n      <td>0.416499</td>\n      <td>0.328815</td>\n      <td>0.005214</td>\n      <td>0.837424</td>\n    </tr>\n    <tr>\n      <th>11</th>\n      <td>185.711121</td>\n      <td>46.599092</td>\n      <td>129.558386</td>\n      <td>297.663908</td>\n      <td>0.502506</td>\n      <td>0.322446</td>\n      <td>0.039945</td>\n      <td>0.962812</td>\n    </tr>\n    <tr>\n      <th>12</th>\n      <td>222.827917</td>\n      <td>63.367448</td>\n      <td>101.613815</td>\n      <td>287.331771</td>\n      <td>0.502947</td>\n      <td>0.333768</td>\n      <td>0.030005</td>\n      <td>0.983264</td>\n    </tr>\n    <tr>\n      <th>13</th>\n      <td>202.528601</td>\n      <td>47.719461</td>\n      <td>128.653978</td>\n      <td>296.320646</td>\n      <td>0.421220</td>\n      <td>0.311054</td>\n      <td>0.014829</td>\n      <td>0.989440</td>\n    </tr>\n    <tr>\n      <th>14</th>\n      <td>202.719455</td>\n      <td>57.925459</td>\n      <td>104.401682</td>\n      <td>290.714593</td>\n      <td>0.601917</td>\n      <td>0.334463</td>\n      <td>0.074912</td>\n      <td>0.972599</td>\n    </tr>\n    <tr>\n      <th>15</th>\n      <td>210.837275</td>\n      <td>50.564810</td>\n      <td>122.047204</td>\n      <td>299.293981</td>\n      <td>0.547538</td>\n      <td>0.289013</td>\n      <td>0.043848</td>\n      <td>0.960434</td>\n    </tr>\n    <tr>\n      <th>16</th>\n      <td>234.208394</td>\n      <td>66.427920</td>\n      <td>101.499823</td>\n      <td>299.505989</td>\n      <td>0.517931</td>\n      <td>0.256588</td>\n      <td>0.128174</td>\n      <td>0.946564</td>\n    </tr>\n    <tr>\n      <th>17</th>\n      <td>196.547458</td>\n      <td>66.254967</td>\n      <td>101.285512</td>\n      <td>294.888127</td>\n      <td>0.529361</td>\n      <td>0.302235</td>\n      <td>0.085989</td>\n      <td>0.925857</td>\n    </tr>\n    <tr>\n      <th>18</th>\n      <td>202.419747</td>\n      <td>63.699977</td>\n      <td>116.720248</td>\n      <td>298.585114</td>\n      <td>0.485297</td>\n      <td>0.324084</td>\n      <td>0.031171</td>\n      <td>0.974594</td>\n    </tr>\n    <tr>\n      <th>19</th>\n      <td>243.187622</td>\n      <td>41.303316</td>\n      <td>143.978900</td>\n      <td>297.688550</td>\n      <td>0.506457</td>\n      <td>0.371980</td>\n      <td>0.023620</td>\n      <td>0.980983</td>\n    </tr>\n    <tr>\n      <th>20</th>\n      <td>202.210424</td>\n      <td>53.584031</td>\n      <td>128.060077</td>\n      <td>279.754289</td>\n      <td>0.491285</td>\n      <td>0.226424</td>\n      <td>0.230262</td>\n      <td>0.941790</td>\n    </tr>\n    <tr>\n      <th>21</th>\n      <td>177.292844</td>\n      <td>60.911360</td>\n      <td>100.049863</td>\n      <td>296.425575</td>\n      <td>0.569569</td>\n      <td>0.266215</td>\n      <td>0.150094</td>\n      <td>0.893850</td>\n    </tr>\n  </tbody>\n</table>\n</div>"
     },
     "metadata": {},
     "execution_count": 218
    }
   ],
   "source": [
    "traffic_grouped = traffic_training_complete.groupby(\n",
    "                    np.arange(len(traffic_training_complete))//LOOK_AHEAD).agg(['mean', 'std', 'min', 'max'])\n",
    "# result.index = df.loc[1::2, 'Idx']\n",
    "print(traffic_grouped.shape)\n",
    "traffic_grouped.head(22)"
   ]
  },
  {
   "cell_type": "markdown",
   "metadata": {},
   "source": [
    "# Policy Decision Steps\n",
    "\n",
    "1. Get all supported versions for current datarate prediction\n",
    "    - If nothing found, return the maximum\n",
    "\n",
    "2. Give score to all the supported versions based on the policy configurations\n",
    "    - Cost (-)\n",
    "    - Support deviation (+)\n",
    "    - Over Provision (-)\n",
    "    - Same Version (+)\n",
    "    - Overhead (-)\n",
    "\n",
    "----\n",
    "# Decision Matrix    \n",
    "\n",
    "|                    \t| Weights \t| Version1 \t| Version2 \t| Version3 \t|\n",
    "|--------------------\t|:-------:\t|:--------:\t|:--------:\t|:--------:\t|\n",
    "| Cost (-)           \t|    4    \t|          \t|          \t|          \t|\n",
    "| Support deviation (+) |    3    \t|          \t|          \t|          \t|\n",
    "| Over Provision (-) \t|    -3   \t|          \t|          \t|          \t|\n",
    "| Same Version (+)   \t|    3    \t|          \t|          \t|          \t|\n",
    "| Overhead (-)       \t|    -4   \t|          \t|          \t|          \t|"
   ]
  },
  {
   "cell_type": "code",
   "execution_count": 219,
   "metadata": {},
   "outputs": [],
   "source": [
    "def find_max_datarate_version(versions):\n",
    "    _max_datarate = 0\n",
    "\n",
    "    for _vm_type_key, _vm_type_value in versions.items():\n",
    "        # print(_vm_type_key)    \n",
    "\n",
    "        for _vm_version_key, _vm_version_value in _vm_type_value.items():\n",
    "            # print(_vm_version_key)\n",
    "            # print(_vm_version_value[\"max_data_rate\"])\n",
    "\n",
    "            if _vm_version_value[\"max_data_rate\"] > _max_datarate:\n",
    "                _max_datarate = _vm_version_value[\"max_data_rate\"]\n",
    "                _max_datarate_version = { _vm_type_key: { _vm_version_key : _vm_version_value } }\n",
    "\n",
    "    return _max_datarate_version\n",
    "\n",
    "def get_supported_versions(prediction, versions):\n",
    "    # Iterate versions\n",
    "    datarate_supported_versions = {}\n",
    "\n",
    "    for _vm_type_key, _vm_type_value in versions.items():\n",
    "        # print(_vm_type_key)    \n",
    "\n",
    "        for _vm_version_key, _vm_version_value in _vm_type_value.items():\n",
    "            # print(_vm_version_key)\n",
    "            # print(_vm_version_value[\"max_data_rate\"])\n",
    "            # print(prediction[\"mean\"])\n",
    "            if _vm_version_value[\"max_data_rate\"] >= prediction[\"mean\"]:\n",
    "                # check if key present else add\n",
    "                if _vm_type_key in datarate_supported_versions:\n",
    "                    datarate_supported_versions[_vm_type_key][_vm_version_key] = _vm_version_value\n",
    "                else:\n",
    "                    datarate_supported_versions[_vm_type_key] = {}\n",
    "                    datarate_supported_versions[_vm_type_key][_vm_version_key] = _vm_version_value\n",
    "\n",
    "    if len(datarate_supported_versions) == 0:\n",
    "        return find_max_datarate_version(versions)\n",
    "    return datarate_supported_versions\n",
    ""
   ]
  },
  {
   "cell_type": "code",
   "execution_count": 220,
   "metadata": {},
   "outputs": [
    {
     "output_type": "execute_result",
     "data": {
      "text/plain": "                                                 cost  support_deviation  \\\nvirtual_deployment_units_vm  cirros-image-1-vm    1.0                  5   \n                             cirros-image-2-vm    1.0                  5   \nvirtual_deployment_units_gpu cirros-image-1-gpu   5.0                  5   \n                             cirros-image-2-gpu   5.0                  5   \n\n                                                 over_provision  same_version  \\\nvirtual_deployment_units_vm  cirros-image-1-vm              1.0             1   \n                             cirros-image-2-vm              1.0             1   \nvirtual_deployment_units_gpu cirros-image-1-gpu             5.0             5   \n                             cirros-image-2-gpu             5.0             1   \n\n                                                 overhead  \nvirtual_deployment_units_vm  cirros-image-1-vm        5.0  \n                             cirros-image-2-vm        5.0  \nvirtual_deployment_units_gpu cirros-image-1-gpu       1.0  \n                             cirros-image-2-gpu       1.0  ",
      "text/html": "<div>\n<style scoped>\n    .dataframe tbody tr th:only-of-type {\n        vertical-align: middle;\n    }\n\n    .dataframe tbody tr th {\n        vertical-align: top;\n    }\n\n    .dataframe thead th {\n        text-align: right;\n    }\n</style>\n<table border=\"1\" class=\"dataframe\">\n  <thead>\n    <tr style=\"text-align: right;\">\n      <th></th>\n      <th></th>\n      <th>cost</th>\n      <th>support_deviation</th>\n      <th>over_provision</th>\n      <th>same_version</th>\n      <th>overhead</th>\n    </tr>\n  </thead>\n  <tbody>\n    <tr>\n      <th rowspan=\"2\" valign=\"top\">virtual_deployment_units_vm</th>\n      <th>cirros-image-1-vm</th>\n      <td>1.0</td>\n      <td>5</td>\n      <td>1.0</td>\n      <td>1</td>\n      <td>5.0</td>\n    </tr>\n    <tr>\n      <th>cirros-image-2-vm</th>\n      <td>1.0</td>\n      <td>5</td>\n      <td>1.0</td>\n      <td>1</td>\n      <td>5.0</td>\n    </tr>\n    <tr>\n      <th rowspan=\"2\" valign=\"top\">virtual_deployment_units_gpu</th>\n      <th>cirros-image-1-gpu</th>\n      <td>5.0</td>\n      <td>5</td>\n      <td>5.0</td>\n      <td>5</td>\n      <td>1.0</td>\n    </tr>\n    <tr>\n      <th>cirros-image-2-gpu</th>\n      <td>5.0</td>\n      <td>5</td>\n      <td>5.0</td>\n      <td>1</td>\n      <td>1.0</td>\n    </tr>\n  </tbody>\n</table>\n</div>"
     },
     "metadata": {},
     "execution_count": 220
    }
   ],
   "source": [
    "import numpy as np\n",
    "from sklearn import preprocessing\n",
    "\n",
    "_SCORE_MIN, _SCORE_MAX = 1, 5\n",
    "\n",
    "\n",
    "def interpolate_array(values, min=_SCORE_MIN, max=_SCORE_MAX):\n",
    "    return np.interp(values, (values.min(), values.max()), (min, max))\n",
    "\n",
    "def build_decision_matrix(prediction, meta, versions):\n",
    "    _decision_matrix = {}\n",
    "    for _vm_type_key, _vm_type_value in versions.items():\n",
    "        for _vm_version_key, _vm_version_value in _vm_type_value.items():\n",
    "                if _vm_type_key not in _decision_matrix:\n",
    "                    _decision_matrix[_vm_type_key] = {}\n",
    "                if _vm_version_key not in _decision_matrix[_vm_type_key]:\n",
    "                    _decision_matrix[_vm_type_key][_vm_version_key] = {}\n",
    "\n",
    "                # Cost\n",
    "                _decision_matrix[_vm_type_key][_vm_version_key][\"cost\"] = _vm_version_value['cost_per_min']\n",
    "\n",
    "                # Support deviation\n",
    "                if _vm_version_value['max_data_rate'] > (prediction['mean'] + prediction['std']):\n",
    "                    _decision_matrix[_vm_type_key][_vm_version_key][\"support_deviation\"] = 5\n",
    "                else:\n",
    "                    _decision_matrix[_vm_type_key][_vm_version_key][\"support_deviation\"] = 1\n",
    "\n",
    "                # Over Provision\n",
    "                _decision_matrix[_vm_type_key][_vm_version_key][\"over_provision\"] = int(_vm_version_value['max_data_rate']) - int(prediction['mean'])\n",
    "\n",
    "                # Same Version\n",
    "                if meta[\"current_version\"] == _vm_version_key:\n",
    "                    _decision_matrix[_vm_type_key][_vm_version_key][\"same_version\"] = 5\n",
    "                else:\n",
    "                    _decision_matrix[_vm_type_key][_vm_version_key][\"same_version\"] = 1\n",
    "\n",
    "                # Overhead\n",
    "                _decision_matrix[_vm_type_key][_vm_version_key][\"overhead\"] = _vm_version_value['management_overhead']\n",
    "\n",
    "\n",
    "    decision_matrix_df = pd.DataFrame.from_dict({(i,j): _decision_matrix[i][j] \n",
    "                                for i in _decision_matrix.keys() \n",
    "                                for j in _decision_matrix[i].keys()},\n",
    "                                orient='index')\n",
    "\n",
    "    decision_matrix_df[\"over_provision\"] = interpolate_array(decision_matrix_df[\"over_provision\"])\n",
    "    decision_matrix_df[\"cost\"] = interpolate_array(decision_matrix_df[\"cost\"])\n",
    "    decision_matrix_df[\"overhead\"] = interpolate_array(decision_matrix_df[\"overhead\"])\n",
    "\n",
    "    return decision_matrix_df\n",
    "\n",
    "row_series = { \"mean\": 800, \"std\": 100, \"min\": 800, \"max\": 1800 }\n",
    "meta = { \"current_version\": \"cirros-image-1-gpu\" }\n",
    "supported_versions = get_supported_versions(prediction=row_series, versions=VNFD[\"versions\"])\n",
    "decision_matrix_df = build_decision_matrix(prediction=row_series, meta=meta, versions=supported_versions)\n",
    "\n",
    "decision_matrix_df"
   ]
  },
  {
   "cell_type": "code",
   "execution_count": 221,
   "metadata": {},
   "outputs": [
    {
     "output_type": "execute_result",
     "data": {
      "text/plain": "('virtual_deployment_units_vm', 'cirros-image-1-vm')"
     },
     "metadata": {},
     "execution_count": 221
    }
   ],
   "source": [
    "# cost, support_deviation, over_provision, same_version, overhead\n",
    "WEIGHTS = [-4, 2, -4, 3, -3]\n",
    "\n",
    "def get_policy_decision(decision_matrix, weights):\n",
    "\n",
    "    for index_label, row_series in decision_matrix.iterrows():\n",
    "        _row = np.array([row_series.cost, row_series.support_deviation, row_series.over_provision, row_series.same_version, row_series.overhead])\n",
    "\n",
    "        decision_matrix.at[index_label , 'score'] = np.dot(np.array(weights), _row)\n",
    "\n",
    "    _version = decision_matrix[decision_matrix.score == decision_matrix.score.max()].index[0]\n",
    "    # print(decision_matrix)\n",
    "    # print(\":\".join(_version))\n",
    "    return _version\n",
    "\n",
    "get_policy_decision(decision_matrix_df, WEIGHTS)"
   ]
  },
  {
   "cell_type": "code",
   "execution_count": 222,
   "metadata": {
    "tags": [
     "outputPrepend",
     "outputPrepend"
    ]
   },
   "outputs": [
    {
     "output_type": "execute_result",
     "data": {
      "text/plain": "         mean        std         min         max  \\\n0  210.761322  54.355541  116.621570  295.154365   \n1  202.214353  51.653250  101.729590  279.378450   \n2  217.926026  66.810697  106.225388  295.278818   \n3  191.597688  70.571346  114.998696  292.908857   \n4  202.095334  61.568794  100.540172  286.236149   \n\n                                           version  \n0  virtual_deployment_units_con:cirros-image-1-con  \n1  virtual_deployment_units_con:cirros-image-1-con  \n2  virtual_deployment_units_con:cirros-image-1-con  \n3  virtual_deployment_units_con:cirros-image-1-con  \n4  virtual_deployment_units_con:cirros-image-1-con  ",
      "text/html": "<div>\n<style scoped>\n    .dataframe tbody tr th:only-of-type {\n        vertical-align: middle;\n    }\n\n    .dataframe tbody tr th {\n        vertical-align: top;\n    }\n\n    .dataframe thead th {\n        text-align: right;\n    }\n</style>\n<table border=\"1\" class=\"dataframe\">\n  <thead>\n    <tr style=\"text-align: right;\">\n      <th></th>\n      <th>mean</th>\n      <th>std</th>\n      <th>min</th>\n      <th>max</th>\n      <th>version</th>\n    </tr>\n  </thead>\n  <tbody>\n    <tr>\n      <th>0</th>\n      <td>210.761322</td>\n      <td>54.355541</td>\n      <td>116.621570</td>\n      <td>295.154365</td>\n      <td>virtual_deployment_units_con:cirros-image-1-con</td>\n    </tr>\n    <tr>\n      <th>1</th>\n      <td>202.214353</td>\n      <td>51.653250</td>\n      <td>101.729590</td>\n      <td>279.378450</td>\n      <td>virtual_deployment_units_con:cirros-image-1-con</td>\n    </tr>\n    <tr>\n      <th>2</th>\n      <td>217.926026</td>\n      <td>66.810697</td>\n      <td>106.225388</td>\n      <td>295.278818</td>\n      <td>virtual_deployment_units_con:cirros-image-1-con</td>\n    </tr>\n    <tr>\n      <th>3</th>\n      <td>191.597688</td>\n      <td>70.571346</td>\n      <td>114.998696</td>\n      <td>292.908857</td>\n      <td>virtual_deployment_units_con:cirros-image-1-con</td>\n    </tr>\n    <tr>\n      <th>4</th>\n      <td>202.095334</td>\n      <td>61.568794</td>\n      <td>100.540172</td>\n      <td>286.236149</td>\n      <td>virtual_deployment_units_con:cirros-image-1-con</td>\n    </tr>\n  </tbody>\n</table>\n</div>"
     },
     "metadata": {},
     "execution_count": 222
    }
   ],
   "source": [
    "WEIGHTS = [-4, 2, -4, 3, -3]\n",
    "\n",
    "\n",
    "traffic_grouped_sent = traffic_grouped['sent']\n",
    "# traffic_grouped_sent.plot()\n",
    "\n",
    "# iterate over the dataframe row by row and set version\n",
    "for index_label, row_series in traffic_grouped_sent.iterrows():\n",
    "   meta = { \"current_version\": \"cirros-image-1-con\" }\n",
    "   supported_versions = get_supported_versions(prediction=row_series, versions=VNFD[\"versions\"])\n",
    "   decision_matrix_df = build_decision_matrix(prediction=row_series, meta=meta, versions=supported_versions)\n",
    "   traffic_grouped_sent.at[index_label , 'version'] = \":\".join(get_policy_decision(decision_matrix_df, WEIGHTS))\n",
    "   # print(row_series)\n",
    "   # print(decision_matrix_df)\n",
    "   # print(\"\\n\\n\")\n",
    "\n",
    "   \n",
    "\n",
    "traffic_grouped_sent.head()"
   ]
  },
  {
   "cell_type": "code",
   "execution_count": null,
   "metadata": {},
   "outputs": [],
   "source": []
  }
 ],
 "metadata": {
  "file_extension": ".py",
  "kernelspec": {
   "display_name": "Python 3",
   "language": "python",
   "name": "python3"
  },
  "language_info": {
   "codemirror_mode": {
    "name": "ipython",
    "version": 3
   },
   "file_extension": ".py",
   "mimetype": "text/x-python",
   "name": "python",
   "nbconvert_exporter": "python",
   "pygments_lexer": "ipython3",
   "version": "3.5.2-final"
  },
  "mimetype": "text/x-python",
  "name": "python",
  "npconvert_exporter": "python",
  "pygments_lexer": "ipython3",
  "version": 3
 },
 "nbformat": 4,
 "nbformat_minor": 2
}