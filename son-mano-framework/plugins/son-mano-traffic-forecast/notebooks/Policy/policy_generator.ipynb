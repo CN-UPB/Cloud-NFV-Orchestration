{
 "cells": [
  {
   "cell_type": "markdown",
   "metadata": {},
   "source": [
    "# Policy Generator\n",
    "\n",
    "+ Tag the traffic trace with the version\n",
    "+ Ability to compare real vs prediction\n",
    "+ Ability to generate predictions with variable accuracies\n",
    "+ Group time periods based on Policy settings\n",
    "+ Tag each group by decided version \n"
   ]
  },
  {
   "cell_type": "markdown",
   "metadata": {},
   "source": [
    "## 1. Get VNFD"
   ]
  },
  {
   "cell_type": "code",
   "execution_count": 70,
   "metadata": {},
   "outputs": [
    {
     "output_type": "stream",
     "name": "stdout",
     "text": "virtual_deployment_units_vm\ncirros-image-1-vm\n{'cost_per_min': '2', 'max_data_rate': 1200, 'management_overhead': 60}\n\n\ncirros-image-2-vm\n{'cost_per_min': '2', 'max_data_rate': 1200, 'management_overhead': 60}\n\n\nvirtual_deployment_units_gpu\ncirros-image-1-gpu\n{'cost_per_min': '5', 'max_data_rate': 3000, 'management_overhead': 6}\n\n\ncirros-image-2-gpu\n{'cost_per_min': '5', 'max_data_rate': 3000, 'management_overhead': 6}\n\n\nvirtual_deployment_units_con\ncirros-image-1-con\n{'cost_per_min': '1', 'max_data_rate': 600, 'management_overhead': 4}\n\n\ncirros-image-2-con\n{'cost_per_min': '1', 'max_data_rate': 600, 'management_overhead': 4}\n\n\n"
    }
   ],
   "source": [
    "import requests\n",
    "import yaml\n",
    "r = requests.get('https://raw.githubusercontent.com/CN-UPB/Pishahang/mvp-thesis/pish-examples/pwm-scripts/descriptors/multiversion/cirros1_mv_vnfd.yml')\n",
    "# print(r.text)\n",
    "VNFD = yaml.load(r.text, Loader=yaml.FullLoader)\n",
    "\n",
    "# VNFD[\"versions\"]\n",
    "\n",
    "for _vm_type_key, _vm_type_value in VNFD[\"versions\"].items():\n",
    "    print(_vm_type_key)    \n",
    "    for _vm_version_key, _vm_version_value in _vm_type_value.items():\n",
    "        print(_vm_version_key)\n",
    "        print(_vm_version_value)\n",
    "        print(\"\\n\")"
   ]
  },
  {
   "cell_type": "markdown",
   "metadata": {},
   "source": [
    "# Policy Decision Steps\n",
    "\n",
    "\n",
    "----\n",
    "### Decision Matrix    \n",
    "\n",
    "|                    \t| Weights \t| Version1 \t| Version2 \t| Version3 \t| Score \t|\n",
    "|--------------------\t|:-------:\t|:--------:\t|:--------:\t|:--------:\t|:--------:\t|\n",
    "| Cost (-)           \t|    -4    \t|     x1   \t|    x2    \t|    x3    \t|    s    \t|\n",
    "| Over Provision (-) \t|    -3   \t|     x1   \t|    x2    \t|    x3    \t|    s    \t|\n",
    "| Overhead (-)       \t|    -4   \t|     x1   \t|    x2    \t|    x3    \t|    s    \t|\n",
    "| Support deviation (+) |    3    \t|     x1   \t|    x2    \t|    x3    \t|    s    \t|\n",
    "| Same Version (+)   \t|    3    \t|     x1   \t|    x2    \t|    x3    \t|    s    \t|"
   ]
  },
  {
   "cell_type": "code",
   "execution_count": 71,
   "metadata": {},
   "outputs": [],
   "source": [
    "import numpy as np\n",
    "from sklearn import preprocessing\n",
    "\n",
    "# WEIGHTS --> [cost, over_provision, overhead, support_deviation, same_version]\n",
    "WEIGHTS = [-4, -3, -4, 2, 3]\n",
    "\n",
    "_SCORE_MIN, _SCORE_MAX = 1, 5\n",
    "\n",
    "'''\n",
    "Find the version with the max supported datarate\n",
    "'''\n",
    "def find_max_datarate_version(versions):\n",
    "    _max_datarate = 0\n",
    "\n",
    "    for _vm_type_key, _vm_type_value in versions.items():\n",
    "        # print(_vm_type_key)    \n",
    "\n",
    "        for _vm_version_key, _vm_version_value in _vm_type_value.items():\n",
    "            # print(_vm_version_key)\n",
    "            # print(_vm_version_value[\"max_data_rate\"])\n",
    "\n",
    "            if _vm_version_value[\"max_data_rate\"] > _max_datarate:\n",
    "                _max_datarate = _vm_version_value[\"max_data_rate\"]\n",
    "                _max_datarate_version = { _vm_type_key: { _vm_version_key : _vm_version_value } }\n",
    "\n",
    "    return _max_datarate_version\n",
    "\n",
    "'''\n",
    "Get all the versions that can support the datarate demand\n",
    "'''\n",
    "def get_supported_versions(prediction, versions):\n",
    "    # Iterate versions\n",
    "    datarate_supported_versions = {}\n",
    "\n",
    "    for _vm_type_key, _vm_type_value in versions.items():\n",
    "        # print(_vm_type_key)    \n",
    "\n",
    "        for _vm_version_key, _vm_version_value in _vm_type_value.items():\n",
    "            # print(_vm_version_key)\n",
    "            # print(_vm_version_value[\"max_data_rate\"])\n",
    "            # print(prediction[\"mean\"])\n",
    "            if _vm_version_value[\"max_data_rate\"] >= prediction[\"mean\"]:\n",
    "                # check if key present else add\n",
    "                if _vm_type_key in datarate_supported_versions:\n",
    "                    datarate_supported_versions[_vm_type_key][_vm_version_key] = _vm_version_value\n",
    "                else:\n",
    "                    datarate_supported_versions[_vm_type_key] = {}\n",
    "                    datarate_supported_versions[_vm_type_key][_vm_version_key] = _vm_version_value\n",
    "\n",
    "    if len(datarate_supported_versions) == 0:\n",
    "        return find_max_datarate_version(versions)\n",
    "    return datarate_supported_versions\n",
    "\n",
    "'''\n",
    "Interpolate data points to a certain range\n",
    "'''\n",
    "def interpolate_array(values, min=_SCORE_MIN, max=_SCORE_MAX):\n",
    "    return np.interp(values, (values.min(), values.max()), (min, max))\n",
    "\n",
    "\n",
    "'''\n",
    "Build the decision matrix for a given traffic prediction values \n",
    "'''\n",
    "def build_decision_matrix(prediction, meta, versions):\n",
    "    _decision_matrix = {}\n",
    "    for _vm_type_key, _vm_type_value in versions.items():\n",
    "        for _vm_version_key, _vm_version_value in _vm_type_value.items():\n",
    "                if _vm_type_key not in _decision_matrix:\n",
    "                    _decision_matrix[_vm_type_key] = {}\n",
    "                if _vm_version_key not in _decision_matrix[_vm_type_key]:\n",
    "                    _decision_matrix[_vm_type_key][_vm_version_key] = {}\n",
    "\n",
    "                # Cost\n",
    "                _decision_matrix[_vm_type_key][_vm_version_key][\"cost\"] = _vm_version_value['cost_per_min']\n",
    "\n",
    "                # Support deviation\n",
    "                if _vm_version_value['max_data_rate'] > (prediction['mean'] + prediction['std']):\n",
    "                    _decision_matrix[_vm_type_key][_vm_version_key][\"support_deviation\"] = 5\n",
    "                else:\n",
    "                    _decision_matrix[_vm_type_key][_vm_version_key][\"support_deviation\"] = 1\n",
    "\n",
    "                # Over Provision\n",
    "                _decision_matrix[_vm_type_key][_vm_version_key][\"over_provision\"] = int(_vm_version_value['max_data_rate']) - int(prediction['mean'])\n",
    "\n",
    "                # Same Version\n",
    "                if meta[\"current_version\"] == _vm_version_key:\n",
    "                    _decision_matrix[_vm_type_key][_vm_version_key][\"same_version\"] = 5\n",
    "                else:\n",
    "                    _decision_matrix[_vm_type_key][_vm_version_key][\"same_version\"] = 1\n",
    "\n",
    "                # Overhead\n",
    "                _decision_matrix[_vm_type_key][_vm_version_key][\"overhead\"] = _vm_version_value['management_overhead']\n",
    "\n",
    "\n",
    "    decision_matrix_df = pd.DataFrame.from_dict({(i,j): _decision_matrix[i][j] \n",
    "                                for i in _decision_matrix.keys() \n",
    "                                for j in _decision_matrix[i].keys()},\n",
    "                                orient='index')\n",
    "\n",
    "    decision_matrix_df[\"over_provision\"] = interpolate_array(decision_matrix_df[\"over_provision\"])\n",
    "    decision_matrix_df[\"cost\"] = interpolate_array(decision_matrix_df[\"cost\"])\n",
    "    decision_matrix_df[\"overhead\"] = interpolate_array(decision_matrix_df[\"overhead\"])\n",
    "\n",
    "    return decision_matrix_df\n",
    "\n",
    "'''\n",
    "Get policy decision given decision matrix and weights\n",
    "'''\n",
    "def get_policy_decision(decision_matrix, weights):\n",
    "    for index_label, row_series in decision_matrix.iterrows():\n",
    "        # WEIGHTS --> [cost, over_provision, overhead, support_deviation, same_version]\n",
    "        _row = np.array([row_series.cost, row_series.over_provision, row_series.overhead, row_series.support_deviation, row_series.same_version])\n",
    "\n",
    "        decision_matrix.at[index_label , 'score'] = np.dot(np.array(weights), _row)\n",
    "\n",
    "    _version = decision_matrix[decision_matrix.score == decision_matrix.score.max()].index[0]\n",
    "    return _version\n",
    "\n",
    "'''\n",
    "Find the version with least cost\n",
    "'''\n",
    "def find_cheapest_version(versions):\n",
    "    _cost = 999999\n",
    "\n",
    "    for _vm_type_key, _vm_type_value in versions.items():\n",
    "        # print(_vm_type_key)    \n",
    "\n",
    "        for _vm_version_key, _vm_version_value in _vm_type_value.items():\n",
    "            # print(_vm_version_key)\n",
    "            # print(_vm_version_value[\"max_data_rate\"])\n",
    "            # FIXME: cost_per_min should be int\n",
    "            if int(_vm_version_value[\"cost_per_min\"]) < int(_cost):\n",
    "                _cost = _vm_version_value[\"cost_per_min\"]\n",
    "                # _cost_version = { _vm_type_key: { _vm_version_key : _vm_version_value } }\n",
    "                _cost_version = (_vm_type_key, _vm_version_key )\n",
    "\n",
    "    return _cost_version"
   ]
  },
  {
   "cell_type": "markdown",
   "metadata": {},
   "source": [
    "# Testing on sample prediction data\n",
    "\n",
    "### VNFD\n",
    " \n",
    "+ VM \n",
    "    - 'cost_per_min': '2'\n",
    "    - 'max_data_rate': 1200\n",
    "    - 'management_overhead': 60\n",
    "+ GPU\n",
    "    - 'cost_per_min': '5'\n",
    "    - 'max_data_rate': 3000\n",
    "    - 'management_overhead': 6\n",
    "+ CON\n",
    "    - 'cost_per_min': '1'\n",
    "    - 'max_data_rate': 600\n",
    "    - 'management_overhead': 4\n",
    "\n",
    "---"
   ]
  },
  {
   "cell_type": "markdown",
   "metadata": {},
   "source": [
    "# TEST 1\n",
    "---\n",
    "\n",
    "### Weights\n",
    "\n",
    "`WEIGHTS = [-4, -3, -4, 2, 3]`\n",
    "\n",
    "+ Cost (-4)\n",
    "+ Over Provision (-3)\n",
    "+ Overhead (-4)\n",
    "+ Support deviation (2)\n",
    "+ Same Version (3)\n",
    "\n",
    "### Prediction\n",
    "\n",
    "`prediction = { \"mean\": 800, \"std\": 100, \"min\": 800, \"max\": 1800 }`\n",
    "\n",
    "+ Mean: 800\n",
    "+ Standard Deviation: 100\n",
    "+ Min: 800\n",
    "+ Max: 1200\n",
    "\n",
    "### Meta\n",
    "\n",
    "`meta = { \"current_version\": \"cirros-image-1-gpu\" }`\n",
    "\n",
    "+ Current Version: GPU"
   ]
  },
  {
   "cell_type": "code",
   "execution_count": 72,
   "metadata": {},
   "outputs": [
    {
     "output_type": "stream",
     "name": "stdout",
     "text": "\nSelected version to deploy -  virtual_deployment_units_vm  :  cirros-image-1-vm \n\n"
    },
    {
     "output_type": "execute_result",
     "data": {
      "text/plain": "                                                 cost  support_deviation  \\\nvirtual_deployment_units_vm  cirros-image-1-vm    1.0                  5   \n                             cirros-image-2-vm    1.0                  5   \nvirtual_deployment_units_gpu cirros-image-1-gpu   5.0                  5   \n                             cirros-image-2-gpu   5.0                  5   \n\n                                                 over_provision  same_version  \\\nvirtual_deployment_units_vm  cirros-image-1-vm              1.0             1   \n                             cirros-image-2-vm              1.0             1   \nvirtual_deployment_units_gpu cirros-image-1-gpu             5.0             5   \n                             cirros-image-2-gpu             5.0             1   \n\n                                                 overhead  score  \nvirtual_deployment_units_vm  cirros-image-1-vm        5.0  -14.0  \n                             cirros-image-2-vm        5.0  -14.0  \nvirtual_deployment_units_gpu cirros-image-1-gpu       1.0  -14.0  \n                             cirros-image-2-gpu       1.0  -26.0  ",
      "text/html": "<div>\n<style scoped>\n    .dataframe tbody tr th:only-of-type {\n        vertical-align: middle;\n    }\n\n    .dataframe tbody tr th {\n        vertical-align: top;\n    }\n\n    .dataframe thead th {\n        text-align: right;\n    }\n</style>\n<table border=\"1\" class=\"dataframe\">\n  <thead>\n    <tr style=\"text-align: right;\">\n      <th></th>\n      <th></th>\n      <th>cost</th>\n      <th>support_deviation</th>\n      <th>over_provision</th>\n      <th>same_version</th>\n      <th>overhead</th>\n      <th>score</th>\n    </tr>\n  </thead>\n  <tbody>\n    <tr>\n      <th rowspan=\"2\" valign=\"top\">virtual_deployment_units_vm</th>\n      <th>cirros-image-1-vm</th>\n      <td>1.0</td>\n      <td>5</td>\n      <td>1.0</td>\n      <td>1</td>\n      <td>5.0</td>\n      <td>-14.0</td>\n    </tr>\n    <tr>\n      <th>cirros-image-2-vm</th>\n      <td>1.0</td>\n      <td>5</td>\n      <td>1.0</td>\n      <td>1</td>\n      <td>5.0</td>\n      <td>-14.0</td>\n    </tr>\n    <tr>\n      <th rowspan=\"2\" valign=\"top\">virtual_deployment_units_gpu</th>\n      <th>cirros-image-1-gpu</th>\n      <td>5.0</td>\n      <td>5</td>\n      <td>5.0</td>\n      <td>5</td>\n      <td>1.0</td>\n      <td>-14.0</td>\n    </tr>\n    <tr>\n      <th>cirros-image-2-gpu</th>\n      <td>5.0</td>\n      <td>5</td>\n      <td>5.0</td>\n      <td>1</td>\n      <td>1.0</td>\n      <td>-26.0</td>\n    </tr>\n  </tbody>\n</table>\n</div>"
     },
     "metadata": {},
     "execution_count": 72
    }
   ],
   "source": [
    "# Test 1\n",
    "# WEIGHTS --> [cost, over_provision, overhead, support_deviation, same_version]\n",
    "WEIGHTS = [-4, -3, -4, 2, 3]\n",
    "\n",
    "prediction = { \"mean\": 800, \"std\": 100, \"min\": 800, \"max\": 1800 }\n",
    "meta = { \"current_version\": \"cirros-image-1-gpu\" }\n",
    "supported_versions = get_supported_versions(prediction=prediction, versions=VNFD[\"versions\"])\n",
    "decision_matrix_df = build_decision_matrix(prediction=prediction, meta=meta, versions=supported_versions)\n",
    "\n",
    "selected_type, selected_version = get_policy_decision(decision_matrix_df, WEIGHTS)\n",
    "\n",
    "print(\"\\nSelected version to deploy - \", selected_type, \" : \", selected_version, \"\\n\")\n",
    "\n",
    "decision_matrix_df"
   ]
  },
  {
   "cell_type": "markdown",
   "metadata": {},
   "source": [
    "# TEST 2\n",
    "---\n",
    "\n",
    "### Weights\n",
    "\n",
    "`WEIGHTS = [-4, -3, -4, 2, 3]`\n",
    "\n",
    "+ Cost (-4)\n",
    "+ Over Provision (-3)\n",
    "+ Overhead (-4)\n",
    "+ Support deviation (2)\n",
    "+ Same Version (3)\n",
    "\n",
    "### Prediction\n",
    "\n",
    "`prediction = { \"mean\": 1800, \"std\": 100, \"min\": 1600, \"max\": 2000 }`\n",
    "\n",
    "+ Mean: 1800\n",
    "+ Standard Deviation: 100\n",
    "+ Min: 1600\n",
    "+ Max: 2000\n",
    "\n",
    "### Meta\n",
    "\n",
    "`meta = { \"current_version\": \"cirros-image-1-gpu\" }`\n",
    "\n",
    "+ Current Version: GPU"
   ]
  },
  {
   "cell_type": "code",
   "execution_count": 73,
   "metadata": {},
   "outputs": [
    {
     "output_type": "stream",
     "name": "stdout",
     "text": "\nSelected version to deploy -  virtual_deployment_units_gpu  :  cirros-image-1-gpu \n\n"
    },
    {
     "output_type": "execute_result",
     "data": {
      "text/plain": "                                                 cost  support_deviation  \\\nvirtual_deployment_units_gpu cirros-image-1-gpu   5.0                  5   \n                             cirros-image-2-gpu   5.0                  5   \n\n                                                 over_provision  same_version  \\\nvirtual_deployment_units_gpu cirros-image-1-gpu             5.0             5   \n                             cirros-image-2-gpu             5.0             1   \n\n                                                 overhead  score  \nvirtual_deployment_units_gpu cirros-image-1-gpu       5.0  -30.0  \n                             cirros-image-2-gpu       5.0  -42.0  ",
      "text/html": "<div>\n<style scoped>\n    .dataframe tbody tr th:only-of-type {\n        vertical-align: middle;\n    }\n\n    .dataframe tbody tr th {\n        vertical-align: top;\n    }\n\n    .dataframe thead th {\n        text-align: right;\n    }\n</style>\n<table border=\"1\" class=\"dataframe\">\n  <thead>\n    <tr style=\"text-align: right;\">\n      <th></th>\n      <th></th>\n      <th>cost</th>\n      <th>support_deviation</th>\n      <th>over_provision</th>\n      <th>same_version</th>\n      <th>overhead</th>\n      <th>score</th>\n    </tr>\n  </thead>\n  <tbody>\n    <tr>\n      <th rowspan=\"2\" valign=\"top\">virtual_deployment_units_gpu</th>\n      <th>cirros-image-1-gpu</th>\n      <td>5.0</td>\n      <td>5</td>\n      <td>5.0</td>\n      <td>5</td>\n      <td>5.0</td>\n      <td>-30.0</td>\n    </tr>\n    <tr>\n      <th>cirros-image-2-gpu</th>\n      <td>5.0</td>\n      <td>5</td>\n      <td>5.0</td>\n      <td>1</td>\n      <td>5.0</td>\n      <td>-42.0</td>\n    </tr>\n  </tbody>\n</table>\n</div>"
     },
     "metadata": {},
     "execution_count": 73
    }
   ],
   "source": [
    "# Test 2\n",
    "# WEIGHTS --> [cost, over_provision, overhead, support_deviation, same_version]\n",
    "WEIGHTS = [-4, -3, -4, 2, 3]\n",
    "\n",
    "prediction = { \"mean\": 1800, \"std\": 100, \"min\": 1600, \"max\": 2000 }\n",
    "\n",
    "meta = { \"current_version\": \"cirros-image-1-gpu\" }\n",
    "supported_versions = get_supported_versions(prediction=prediction, versions=VNFD[\"versions\"])\n",
    "decision_matrix_df = build_decision_matrix(prediction=prediction, meta=meta, versions=supported_versions)\n",
    "\n",
    "selected_type, selected_version = get_policy_decision(decision_matrix_df, WEIGHTS)\n",
    "\n",
    "print(\"\\nSelected version to deploy - \", selected_type, \" : \", selected_version, \"\\n\")\n",
    "\n",
    "decision_matrix_df"
   ]
  },
  {
   "cell_type": "markdown",
   "metadata": {},
   "source": [
    "# TEST 3\n",
    "---\n",
    "\n",
    "### Weights\n",
    "\n",
    "`WEIGHTS = [-4, -3, -4, 2, 3]`\n",
    "\n",
    "+ Cost (-4)\n",
    "+ Over Provision (-3)\n",
    "+ Overhead (-4)\n",
    "+ Support deviation (2)\n",
    "+ Same Version (3)\n",
    "\n",
    "### Prediction\n",
    "\n",
    "`prediction = { \"mean\": 600, \"std\": 100, \"min\": 500, \"max\": 800 }`\n",
    "\n",
    "+ Mean: 600\n",
    "+ Standard Deviation: 100\n",
    "+ Min: 500\n",
    "+ Max: 800\n",
    "\n",
    "### Meta\n",
    "\n",
    "`meta = { \"current_version\": \"cirros-image-1-gpu\" }`\n",
    "\n",
    "+ Current Version: GPU"
   ]
  },
  {
   "cell_type": "code",
   "execution_count": 74,
   "metadata": {},
   "outputs": [
    {
     "output_type": "stream",
     "name": "stdout",
     "text": "\nSelected version to deploy -  virtual_deployment_units_con  :  cirros-image-1-con \n\n"
    },
    {
     "output_type": "execute_result",
     "data": {
      "text/plain": "                                                 cost  support_deviation  \\\nvirtual_deployment_units_vm  cirros-image-1-vm    2.0                  5   \n                             cirros-image-2-vm    2.0                  5   \nvirtual_deployment_units_gpu cirros-image-1-gpu   5.0                  5   \n                             cirros-image-2-gpu   5.0                  5   \nvirtual_deployment_units_con cirros-image-1-con   1.0                  1   \n                             cirros-image-2-con   1.0                  1   \n\n                                                 over_provision  same_version  \\\nvirtual_deployment_units_vm  cirros-image-1-vm              2.0             1   \n                             cirros-image-2-vm              2.0             1   \nvirtual_deployment_units_gpu cirros-image-1-gpu             5.0             5   \n                             cirros-image-2-gpu             5.0             1   \nvirtual_deployment_units_con cirros-image-1-con             1.0             1   \n                             cirros-image-2-con             1.0             1   \n\n                                                 overhead      score  \nvirtual_deployment_units_vm  cirros-image-1-vm   5.000000 -21.000000  \n                             cirros-image-2-vm   5.000000 -21.000000  \nvirtual_deployment_units_gpu cirros-image-1-gpu  1.142857 -14.571429  \n                             cirros-image-2-gpu  1.142857 -26.571429  \nvirtual_deployment_units_con cirros-image-1-con  1.000000  -6.000000  \n                             cirros-image-2-con  1.000000  -6.000000  ",
      "text/html": "<div>\n<style scoped>\n    .dataframe tbody tr th:only-of-type {\n        vertical-align: middle;\n    }\n\n    .dataframe tbody tr th {\n        vertical-align: top;\n    }\n\n    .dataframe thead th {\n        text-align: right;\n    }\n</style>\n<table border=\"1\" class=\"dataframe\">\n  <thead>\n    <tr style=\"text-align: right;\">\n      <th></th>\n      <th></th>\n      <th>cost</th>\n      <th>support_deviation</th>\n      <th>over_provision</th>\n      <th>same_version</th>\n      <th>overhead</th>\n      <th>score</th>\n    </tr>\n  </thead>\n  <tbody>\n    <tr>\n      <th rowspan=\"2\" valign=\"top\">virtual_deployment_units_vm</th>\n      <th>cirros-image-1-vm</th>\n      <td>2.0</td>\n      <td>5</td>\n      <td>2.0</td>\n      <td>1</td>\n      <td>5.000000</td>\n      <td>-21.000000</td>\n    </tr>\n    <tr>\n      <th>cirros-image-2-vm</th>\n      <td>2.0</td>\n      <td>5</td>\n      <td>2.0</td>\n      <td>1</td>\n      <td>5.000000</td>\n      <td>-21.000000</td>\n    </tr>\n    <tr>\n      <th rowspan=\"2\" valign=\"top\">virtual_deployment_units_gpu</th>\n      <th>cirros-image-1-gpu</th>\n      <td>5.0</td>\n      <td>5</td>\n      <td>5.0</td>\n      <td>5</td>\n      <td>1.142857</td>\n      <td>-14.571429</td>\n    </tr>\n    <tr>\n      <th>cirros-image-2-gpu</th>\n      <td>5.0</td>\n      <td>5</td>\n      <td>5.0</td>\n      <td>1</td>\n      <td>1.142857</td>\n      <td>-26.571429</td>\n    </tr>\n    <tr>\n      <th rowspan=\"2\" valign=\"top\">virtual_deployment_units_con</th>\n      <th>cirros-image-1-con</th>\n      <td>1.0</td>\n      <td>1</td>\n      <td>1.0</td>\n      <td>1</td>\n      <td>1.000000</td>\n      <td>-6.000000</td>\n    </tr>\n    <tr>\n      <th>cirros-image-2-con</th>\n      <td>1.0</td>\n      <td>1</td>\n      <td>1.0</td>\n      <td>1</td>\n      <td>1.000000</td>\n      <td>-6.000000</td>\n    </tr>\n  </tbody>\n</table>\n</div>"
     },
     "metadata": {},
     "execution_count": 74
    }
   ],
   "source": [
    "# Test 3\n",
    "# WEIGHTS --> [cost, over_provision, overhead, support_deviation, same_version]\n",
    "WEIGHTS = [-4, -3, -4, 2, 3]\n",
    "\n",
    "prediction = { \"mean\": 600, \"std\": 100, \"min\": 500, \"max\": 800 }\n",
    "\n",
    "meta = { \"current_version\": \"cirros-image-1-gpu\" }\n",
    "supported_versions = get_supported_versions(prediction=prediction, versions=VNFD[\"versions\"])\n",
    "decision_matrix_df = build_decision_matrix(prediction=prediction, meta=meta, versions=supported_versions)\n",
    "\n",
    "selected_type, selected_version = get_policy_decision(decision_matrix_df, WEIGHTS)\n",
    "\n",
    "print(\"\\nSelected version to deploy - \", selected_type, \" : \", selected_version, \"\\n\")\n",
    "\n",
    "decision_matrix_df"
   ]
  },
  {
   "cell_type": "markdown",
   "metadata": {},
   "source": [
    "# Run Policy on Dataset\n",
    "---\n"
   ]
  },
  {
   "cell_type": "code",
   "execution_count": 75,
   "metadata": {},
   "outputs": [
    {
     "output_type": "stream",
     "name": "stdout",
     "text": "(1961, 2)\n(131, 8)\n"
    },
    {
     "output_type": "execute_result",
     "data": {
      "text/plain": "         sent                                      received            \\\n         mean         std         min         max      mean       std   \n0  400.975281  182.571735  104.627262  661.686316  0.571185  0.272648   \n1  391.526272  179.939197  126.145848  664.665411  0.530036  0.217239   \n2  487.958678  171.198917  206.064332  693.344684  0.493677  0.275820   \n3  410.973695  156.834650  106.920893  626.056192  0.481888  0.311924   \n4  437.785665  152.507474  123.531212  652.214380  0.490901  0.276388   \n\n                       \n        min       max  \n0  0.071720  0.997966  \n1  0.204594  0.854312  \n2  0.059621  0.936575  \n3  0.027452  0.943392  \n4  0.137282  0.930128  ",
      "text/html": "<div>\n<style scoped>\n    .dataframe tbody tr th:only-of-type {\n        vertical-align: middle;\n    }\n\n    .dataframe tbody tr th {\n        vertical-align: top;\n    }\n\n    .dataframe thead tr th {\n        text-align: left;\n    }\n</style>\n<table border=\"1\" class=\"dataframe\">\n  <thead>\n    <tr>\n      <th></th>\n      <th colspan=\"4\" halign=\"left\">sent</th>\n      <th colspan=\"4\" halign=\"left\">received</th>\n    </tr>\n    <tr>\n      <th></th>\n      <th>mean</th>\n      <th>std</th>\n      <th>min</th>\n      <th>max</th>\n      <th>mean</th>\n      <th>std</th>\n      <th>min</th>\n      <th>max</th>\n    </tr>\n  </thead>\n  <tbody>\n    <tr>\n      <th>0</th>\n      <td>400.975281</td>\n      <td>182.571735</td>\n      <td>104.627262</td>\n      <td>661.686316</td>\n      <td>0.571185</td>\n      <td>0.272648</td>\n      <td>0.071720</td>\n      <td>0.997966</td>\n    </tr>\n    <tr>\n      <th>1</th>\n      <td>391.526272</td>\n      <td>179.939197</td>\n      <td>126.145848</td>\n      <td>664.665411</td>\n      <td>0.530036</td>\n      <td>0.217239</td>\n      <td>0.204594</td>\n      <td>0.854312</td>\n    </tr>\n    <tr>\n      <th>2</th>\n      <td>487.958678</td>\n      <td>171.198917</td>\n      <td>206.064332</td>\n      <td>693.344684</td>\n      <td>0.493677</td>\n      <td>0.275820</td>\n      <td>0.059621</td>\n      <td>0.936575</td>\n    </tr>\n    <tr>\n      <th>3</th>\n      <td>410.973695</td>\n      <td>156.834650</td>\n      <td>106.920893</td>\n      <td>626.056192</td>\n      <td>0.481888</td>\n      <td>0.311924</td>\n      <td>0.027452</td>\n      <td>0.943392</td>\n    </tr>\n    <tr>\n      <th>4</th>\n      <td>437.785665</td>\n      <td>152.507474</td>\n      <td>123.531212</td>\n      <td>652.214380</td>\n      <td>0.490901</td>\n      <td>0.276388</td>\n      <td>0.137282</td>\n      <td>0.930128</td>\n    </tr>\n  </tbody>\n</table>\n</div>"
     },
     "metadata": {},
     "execution_count": 75
    }
   ],
   "source": [
    "import pandas as pd\n",
    "import numpy as np\n",
    "\n",
    "LOOK_AHEAD = 15 # Mins\n",
    "\n",
    "traffic_training_complete = pd.read_csv(r'/plugins/son-mano-traffic-forecast/notebooks/data/dataset_1_day_traffic.csv', index_col=0)\n",
    "print(traffic_training_complete.shape)\n",
    "traffic_training_complete.head(5)\n",
    "\n",
    "traffic_grouped = traffic_training_complete.groupby(\n",
    "                    np.arange(len(traffic_training_complete))//LOOK_AHEAD).agg(['mean', 'std', 'min', 'max'])\n",
    "# result.index = df.loc[1::2, 'Idx']\n",
    "print(traffic_grouped.shape)\n",
    "traffic_grouped.head(5)"
   ]
  },
  {
   "cell_type": "code",
   "execution_count": 76,
   "metadata": {
    "tags": [
     "outputPrepend",
     "outputPrepend",
     "outputPrepend",
     "outputPrepend",
     "outputPrepend",
     "outputPrepend",
     "outputPrepend",
     "outputPrepend",
     "outputPrepend"
    ]
   },
   "outputs": [
    {
     "output_type": "stream",
     "name": "stdout",
     "text": "{'baseline': 17, 'policy': 3}\n"
    },
    {
     "output_type": "execute_result",
     "data": {
      "text/plain": "         mean         std         min         max  \\\n0  400.975281  182.571735  104.627262  661.686316   \n1  391.526272  179.939197  126.145848  664.665411   \n2  487.958678  171.198917  206.064332  693.344684   \n3  410.973695  156.834650  106.920893  626.056192   \n4  437.785665  152.507474  123.531212  652.214380   \n5  414.117954  196.920195  137.763182  690.055227   \n6  374.958990  188.671996  120.763228  689.002478   \n7  403.229317  205.945716  103.169111  699.197810   \n8  437.435812  170.094940  138.941907  687.027924   \n9  441.109736  193.818115  102.048169  681.936172   \n\n                                            policy  \\\n0  virtual_deployment_units_con:cirros-image-1-con   \n1  virtual_deployment_units_con:cirros-image-1-con   \n2  virtual_deployment_units_con:cirros-image-1-con   \n3  virtual_deployment_units_con:cirros-image-1-con   \n4  virtual_deployment_units_con:cirros-image-1-con   \n5  virtual_deployment_units_con:cirros-image-1-con   \n6  virtual_deployment_units_con:cirros-image-1-con   \n7  virtual_deployment_units_con:cirros-image-1-con   \n8  virtual_deployment_units_con:cirros-image-1-con   \n9  virtual_deployment_units_con:cirros-image-1-con   \n\n                                          baseline  \n0  virtual_deployment_units_con:cirros-image-1-con  \n1  virtual_deployment_units_con:cirros-image-1-con  \n2  virtual_deployment_units_con:cirros-image-1-con  \n3  virtual_deployment_units_con:cirros-image-1-con  \n4  virtual_deployment_units_con:cirros-image-1-con  \n5  virtual_deployment_units_con:cirros-image-1-con  \n6  virtual_deployment_units_con:cirros-image-1-con  \n7  virtual_deployment_units_con:cirros-image-1-con  \n8  virtual_deployment_units_con:cirros-image-1-con  \n9  virtual_deployment_units_con:cirros-image-1-con  ",
      "text/html": "<div>\n<style scoped>\n    .dataframe tbody tr th:only-of-type {\n        vertical-align: middle;\n    }\n\n    .dataframe tbody tr th {\n        vertical-align: top;\n    }\n\n    .dataframe thead th {\n        text-align: right;\n    }\n</style>\n<table border=\"1\" class=\"dataframe\">\n  <thead>\n    <tr style=\"text-align: right;\">\n      <th></th>\n      <th>mean</th>\n      <th>std</th>\n      <th>min</th>\n      <th>max</th>\n      <th>policy</th>\n      <th>baseline</th>\n    </tr>\n  </thead>\n  <tbody>\n    <tr>\n      <th>0</th>\n      <td>400.975281</td>\n      <td>182.571735</td>\n      <td>104.627262</td>\n      <td>661.686316</td>\n      <td>virtual_deployment_units_con:cirros-image-1-con</td>\n      <td>virtual_deployment_units_con:cirros-image-1-con</td>\n    </tr>\n    <tr>\n      <th>1</th>\n      <td>391.526272</td>\n      <td>179.939197</td>\n      <td>126.145848</td>\n      <td>664.665411</td>\n      <td>virtual_deployment_units_con:cirros-image-1-con</td>\n      <td>virtual_deployment_units_con:cirros-image-1-con</td>\n    </tr>\n    <tr>\n      <th>2</th>\n      <td>487.958678</td>\n      <td>171.198917</td>\n      <td>206.064332</td>\n      <td>693.344684</td>\n      <td>virtual_deployment_units_con:cirros-image-1-con</td>\n      <td>virtual_deployment_units_con:cirros-image-1-con</td>\n    </tr>\n    <tr>\n      <th>3</th>\n      <td>410.973695</td>\n      <td>156.834650</td>\n      <td>106.920893</td>\n      <td>626.056192</td>\n      <td>virtual_deployment_units_con:cirros-image-1-con</td>\n      <td>virtual_deployment_units_con:cirros-image-1-con</td>\n    </tr>\n    <tr>\n      <th>4</th>\n      <td>437.785665</td>\n      <td>152.507474</td>\n      <td>123.531212</td>\n      <td>652.214380</td>\n      <td>virtual_deployment_units_con:cirros-image-1-con</td>\n      <td>virtual_deployment_units_con:cirros-image-1-con</td>\n    </tr>\n    <tr>\n      <th>5</th>\n      <td>414.117954</td>\n      <td>196.920195</td>\n      <td>137.763182</td>\n      <td>690.055227</td>\n      <td>virtual_deployment_units_con:cirros-image-1-con</td>\n      <td>virtual_deployment_units_con:cirros-image-1-con</td>\n    </tr>\n    <tr>\n      <th>6</th>\n      <td>374.958990</td>\n      <td>188.671996</td>\n      <td>120.763228</td>\n      <td>689.002478</td>\n      <td>virtual_deployment_units_con:cirros-image-1-con</td>\n      <td>virtual_deployment_units_con:cirros-image-1-con</td>\n    </tr>\n    <tr>\n      <th>7</th>\n      <td>403.229317</td>\n      <td>205.945716</td>\n      <td>103.169111</td>\n      <td>699.197810</td>\n      <td>virtual_deployment_units_con:cirros-image-1-con</td>\n      <td>virtual_deployment_units_con:cirros-image-1-con</td>\n    </tr>\n    <tr>\n      <th>8</th>\n      <td>437.435812</td>\n      <td>170.094940</td>\n      <td>138.941907</td>\n      <td>687.027924</td>\n      <td>virtual_deployment_units_con:cirros-image-1-con</td>\n      <td>virtual_deployment_units_con:cirros-image-1-con</td>\n    </tr>\n    <tr>\n      <th>9</th>\n      <td>441.109736</td>\n      <td>193.818115</td>\n      <td>102.048169</td>\n      <td>681.936172</td>\n      <td>virtual_deployment_units_con:cirros-image-1-con</td>\n      <td>virtual_deployment_units_con:cirros-image-1-con</td>\n    </tr>\n  </tbody>\n</table>\n</div>"
     },
     "metadata": {},
     "execution_count": 76
    }
   ],
   "source": [
    "# Run Policy on Dataset\n",
    "# WEIGHTS --> [cost, over_provision, overhead, support_deviation, same_version]\n",
    "WEIGHTS = [-4, -3, -3, 2, 3]\n",
    "\n",
    "traffic_policy_test = traffic_grouped['sent'].copy()\n",
    "# traffic_policy_test.plot()\n",
    "\n",
    "# iterate over the dataframe row by row and set version\n",
    "meta = { \n",
    "   \"current_version\": \"cirros-image-1-con\",\n",
    "   \"current_version_baseline\": \"cirros-image-1-con\"\n",
    "}\n",
    "\n",
    "switch_counter = {\n",
    "   \"baseline\": 0,\n",
    "   \"policy\": 0\n",
    "}\n",
    "\n",
    "with open(\"output_debug.log\", \"w\") as f:\n",
    "   for index_label, row_series in traffic_policy_test.iterrows():\n",
    "      supported_versions = get_supported_versions(prediction=row_series, versions=VNFD[\"versions\"])\n",
    "      decision_matrix_df = build_decision_matrix(prediction=row_series, meta=meta, versions=supported_versions)\n",
    "\n",
    "      _selected_version = \":\".join(get_policy_decision(decision_matrix_df, WEIGHTS))\n",
    "      traffic_policy_test.at[index_label , 'policy'] = _selected_version\n",
    "\n",
    "      _selected_version_baseline = \":\".join(find_cheapest_version(versions=supported_versions))\n",
    "      traffic_policy_test.at[index_label , 'baseline'] = _selected_version_baseline\n",
    "\n",
    "      if not _selected_version.split(\":\")[1] == meta[\"current_version\"]:\n",
    "         switch_counter[\"policy\"] += 1\n",
    "\n",
    "      if not _selected_version_baseline.split(\":\")[1] == meta[\"current_version_baseline\"]:\n",
    "         switch_counter[\"baseline\"] += 1\n",
    "\n",
    "      meta = {\n",
    "         \"current_version\": _selected_version.split(\":\")[1],\n",
    "         \"current_version_baseline\": _selected_version_baseline.split(\":\")[1]\n",
    "      } \n",
    "\n",
    "      f.write(str(row_series))\n",
    "      f.write(_selected_version)\n",
    "      f.write(\"\\n\")\n",
    "      f.write(str(decision_matrix_df))\n",
    "      f.write(\"\\n\\n\")\n",
    "      # print(row_series)\n",
    "      # print(decision_matrix_df)\n",
    "      # print(\"\\n\\n\")\n",
    "   \n",
    "print(switch_counter)\n",
    "traffic_policy_test.head(10)"
   ]
  },
  {
   "cell_type": "code",
   "execution_count": null,
   "metadata": {},
   "outputs": [],
   "source": []
  }
 ],
 "metadata": {
  "file_extension": ".py",
  "kernelspec": {
   "display_name": "Python 3",
   "language": "python",
   "name": "python3"
  },
  "language_info": {
   "codemirror_mode": {
    "name": "ipython",
    "version": 3
   },
   "file_extension": ".py",
   "mimetype": "text/x-python",
   "name": "python",
   "nbconvert_exporter": "python",
   "pygments_lexer": "ipython3",
   "version": "3.5.2-final"
  },
  "mimetype": "text/x-python",
  "name": "python",
  "npconvert_exporter": "python",
  "pygments_lexer": "ipython3",
  "version": 3
 },
 "nbformat": 4,
 "nbformat_minor": 2
}